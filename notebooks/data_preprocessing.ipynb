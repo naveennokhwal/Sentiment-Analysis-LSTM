{
 "cells": [
  {
   "cell_type": "code",
   "execution_count": 1,
   "metadata": {},
   "outputs": [
    {
     "data": {
      "text/plain": [
       "'C:\\\\Learning\\\\Machine-Learning\\\\Deep_Learning_WorkSpace\\\\projects\\\\sentiment-analysis-project'"
      ]
     },
     "execution_count": 1,
     "metadata": {},
     "output_type": "execute_result"
    }
   ],
   "source": [
    "import os\n",
    "os.getcwd()\n",
    "os.chdir('C:\\Learning\\Machine-Learning\\Deep_Learning_WorkSpace\\projects\\sentiment-analysis-project')\n",
    "os.getcwd()\n"
   ]
  },
  {
   "cell_type": "code",
   "execution_count": 2,
   "metadata": {},
   "outputs": [
    {
     "name": "stderr",
     "output_type": "stream",
     "text": [
      "[nltk_data] Downloading package punkt to\n",
      "[nltk_data]     C:\\Users\\navee\\AppData\\Roaming\\nltk_data...\n",
      "[nltk_data]   Package punkt is already up-to-date!\n",
      "[nltk_data] Downloading package stopwords to\n",
      "[nltk_data]     C:\\Users\\navee\\AppData\\Roaming\\nltk_data...\n",
      "[nltk_data]   Package stopwords is already up-to-date!\n",
      "Vectorizing documents: 100%|██████████| 5000/5000 [00:02<00:00, 2420.12it/s]\n"
     ]
    }
   ],
   "source": [
    "from backend.utilis.text_cleanup import TextCleaning\n",
    "from backend.utilis.text_vectorization import TextVectorisation "
   ]
  },
  {
   "cell_type": "code",
   "execution_count": 3,
   "metadata": {},
   "outputs": [],
   "source": [
    "import pandas as pd\n",
    "from tqdm import tqdm"
   ]
  },
  {
   "cell_type": "markdown",
   "metadata": {},
   "source": [
    "### Text Cleaning"
   ]
  },
  {
   "cell_type": "code",
   "execution_count": 4,
   "metadata": {},
   "outputs": [],
   "source": [
    "class PreProcess(TextCleaning):\n",
    "    def __init__(self):\n",
    "        super().__init__()\n",
    "\n",
    "    def pipeline(self, text):\n",
    "        text = self.lowercase_text(text)\n",
    "        text = self.remove_urls(text)\n",
    "        text = self.remove_punctuation(text)\n",
    "        text = self.expand_chat_words(text)\n",
    "        text = self.remove_stopwords(text)\n",
    "        text = self.handle_emojis(text)\n",
    "        text = self.correct_spelling(text)\n",
    "        tokens = self.tokenize_text(text)\n",
    "        lemmas = self.lemmatize(tokens)\n",
    "\n",
    "        return ' '.join(lemmas)"
   ]
  },
  {
   "cell_type": "code",
   "execution_count": 6,
   "metadata": {},
   "outputs": [],
   "source": [
    "data = pd.read_csv(r\"C:\\Learning\\Machine-Learning\\Deep_Learning_WorkSpace\\projects\\sentiment-analysis-project\\data\\\\raw\\\\text10000.csv\", usecols=['reviews'])"
   ]
  },
  {
   "cell_type": "code",
   "execution_count": 8,
   "metadata": {},
   "outputs": [],
   "source": [
    "model = PreProcess()"
   ]
  },
  {
   "cell_type": "code",
   "execution_count": 10,
   "metadata": {},
   "outputs": [
    {
     "name": "stderr",
     "output_type": "stream",
     "text": [
      "Processing texts: 100%|██████████| 10000/10000 [23:22<00:00,  7.13it/s]\n"
     ]
    }
   ],
   "source": [
    "clean_data = [model.pipeline(text) for text in tqdm(data['reviews'], desc=\"Processing texts\")]"
   ]
  },
  {
   "cell_type": "code",
   "execution_count": 11,
   "metadata": {},
   "outputs": [],
   "source": [
    "clean_data = pd.DataFrame(clean_data, columns=['clean-text'])"
   ]
  },
  {
   "cell_type": "code",
   "execution_count": 13,
   "metadata": {},
   "outputs": [],
   "source": [
    "clean_data.to_csv(r\"C:\\Learning\\Machine-Learning\\Deep_Learning_WorkSpace\\projects\\sentiment-analysis-project\\data\\processed\\clean10000.csv\")"
   ]
  },
  {
   "cell_type": "markdown",
   "metadata": {},
   "source": [
    "### Text vectorization"
   ]
  },
  {
   "cell_type": "code",
   "execution_count": 14,
   "metadata": {},
   "outputs": [],
   "source": [
    "#  Import data\n",
    "data_path = r'C:\\Learning\\Machine-Learning\\Deep_Learning_WorkSpace\\projects\\sentiment-analysis-project\\data\\processed\\clean10000.csv'\n",
    "data = pd.read_csv(data_path)\n",
    "texts = data['clean-text'].tolist()"
   ]
  },
  {
   "cell_type": "code",
   "execution_count": 15,
   "metadata": {},
   "outputs": [],
   "source": [
    "model_path = r'C:\\Learning\\Machine-Learning\\Deep_Learning_WorkSpace\\projects\\sentiment-analysis-project\\backend\\utilis\\GoogleNews-vectors-negative300.bin'  # Replace with your path"
   ]
  },
  {
   "cell_type": "code",
   "execution_count": 16,
   "metadata": {},
   "outputs": [],
   "source": [
    "model_vect = TextVectorisation(model_path)"
   ]
  },
  {
   "cell_type": "code",
   "execution_count": 17,
   "metadata": {},
   "outputs": [
    {
     "name": "stderr",
     "output_type": "stream",
     "text": [
      "Vectorizing documents: 100%|██████████| 10000/10000 [00:01<00:00, 5980.45it/s]\n"
     ]
    }
   ],
   "source": [
    "vectors = model_vect.vectorize_documents(texts)"
   ]
  },
  {
   "cell_type": "code",
   "execution_count": 18,
   "metadata": {},
   "outputs": [],
   "source": [
    "vectors = pd.DataFrame(vectors)\n",
    "vectors.to_csv(r\"C:\\Learning\\Machine-Learning\\Deep_Learning_WorkSpace\\projects\\sentiment-analysis-project\\data\\processed\\\\vector10000.csv\", index=False)"
   ]
  }
 ],
 "metadata": {
  "kernelspec": {
   "display_name": "base_env",
   "language": "python",
   "name": "python3"
  },
  "language_info": {
   "codemirror_mode": {
    "name": "ipython",
    "version": 3
   },
   "file_extension": ".py",
   "mimetype": "text/x-python",
   "name": "python",
   "nbconvert_exporter": "python",
   "pygments_lexer": "ipython3",
   "version": "3.11.9"
  }
 },
 "nbformat": 4,
 "nbformat_minor": 2
}
