{
 "cells": [
  {
   "cell_type": "code",
   "execution_count": 1,
   "metadata": {},
   "outputs": [],
   "source": [
    "import pandas as pd"
   ]
  },
  {
   "cell_type": "code",
   "execution_count": 7,
   "metadata": {},
   "outputs": [],
   "source": [
    "data = pd.read_csv(r\"C:\\Learning\\Machine-Learning\\Deep_Learning_WorkSpace\\projects\\sentiment-analysis-project\\data\\raw\\training_data.csv\", usecols=[0,5], names=[\"label\", \"reviews\"])"
   ]
  },
  {
   "cell_type": "code",
   "execution_count": 8,
   "metadata": {},
   "outputs": [
    {
     "data": {
      "text/html": [
       "<div>\n",
       "<style scoped>\n",
       "    .dataframe tbody tr th:only-of-type {\n",
       "        vertical-align: middle;\n",
       "    }\n",
       "\n",
       "    .dataframe tbody tr th {\n",
       "        vertical-align: top;\n",
       "    }\n",
       "\n",
       "    .dataframe thead th {\n",
       "        text-align: right;\n",
       "    }\n",
       "</style>\n",
       "<table border=\"1\" class=\"dataframe\">\n",
       "  <thead>\n",
       "    <tr style=\"text-align: right;\">\n",
       "      <th></th>\n",
       "      <th>label</th>\n",
       "      <th>reviews</th>\n",
       "    </tr>\n",
       "  </thead>\n",
       "  <tbody>\n",
       "    <tr>\n",
       "      <th>0</th>\n",
       "      <td>0</td>\n",
       "      <td>@switchfoot http://twitpic.com/2y1zl - Awww, t...</td>\n",
       "    </tr>\n",
       "    <tr>\n",
       "      <th>1</th>\n",
       "      <td>0</td>\n",
       "      <td>is upset that he can't update his Facebook by ...</td>\n",
       "    </tr>\n",
       "    <tr>\n",
       "      <th>2</th>\n",
       "      <td>0</td>\n",
       "      <td>@Kenichan I dived many times for the ball. Man...</td>\n",
       "    </tr>\n",
       "    <tr>\n",
       "      <th>3</th>\n",
       "      <td>0</td>\n",
       "      <td>my whole body feels itchy and like its on fire</td>\n",
       "    </tr>\n",
       "    <tr>\n",
       "      <th>4</th>\n",
       "      <td>0</td>\n",
       "      <td>@nationwideclass no, it's not behaving at all....</td>\n",
       "    </tr>\n",
       "  </tbody>\n",
       "</table>\n",
       "</div>"
      ],
      "text/plain": [
       "   label                                            reviews\n",
       "0      0  @switchfoot http://twitpic.com/2y1zl - Awww, t...\n",
       "1      0  is upset that he can't update his Facebook by ...\n",
       "2      0  @Kenichan I dived many times for the ball. Man...\n",
       "3      0    my whole body feels itchy and like its on fire \n",
       "4      0  @nationwideclass no, it's not behaving at all...."
      ]
     },
     "execution_count": 8,
     "metadata": {},
     "output_type": "execute_result"
    }
   ],
   "source": [
    "data.head()"
   ]
  },
  {
   "cell_type": "code",
   "execution_count": 4,
   "metadata": {},
   "outputs": [
    {
     "data": {
      "text/plain": [
       "1048575"
      ]
     },
     "execution_count": 4,
     "metadata": {},
     "output_type": "execute_result"
    }
   ],
   "source": [
    "len(data)"
   ]
  },
  {
   "cell_type": "code",
   "execution_count": 11,
   "metadata": {},
   "outputs": [],
   "source": [
    "first5000 = data[:5000]\n",
    "last5000 = data[-5001:-1]"
   ]
  },
  {
   "cell_type": "code",
   "execution_count": 23,
   "metadata": {},
   "outputs": [
    {
     "data": {
      "text/html": [
       "<div>\n",
       "<style scoped>\n",
       "    .dataframe tbody tr th:only-of-type {\n",
       "        vertical-align: middle;\n",
       "    }\n",
       "\n",
       "    .dataframe tbody tr th {\n",
       "        vertical-align: top;\n",
       "    }\n",
       "\n",
       "    .dataframe thead th {\n",
       "        text-align: right;\n",
       "    }\n",
       "</style>\n",
       "<table border=\"1\" class=\"dataframe\">\n",
       "  <thead>\n",
       "    <tr style=\"text-align: right;\">\n",
       "      <th></th>\n",
       "      <th>label</th>\n",
       "      <th>reviews</th>\n",
       "    </tr>\n",
       "  </thead>\n",
       "  <tbody>\n",
       "    <tr>\n",
       "      <th>1043575</th>\n",
       "      <td>4</td>\n",
       "      <td>Off to school, having my last biology test tod...</td>\n",
       "    </tr>\n",
       "    <tr>\n",
       "      <th>1043576</th>\n",
       "      <td>4</td>\n",
       "      <td>@faintbreaths That girl from SMU�people are sa...</td>\n",
       "    </tr>\n",
       "    <tr>\n",
       "      <th>1043577</th>\n",
       "      <td>4</td>\n",
       "      <td>So loving the Dark Blade http://tinyurl.com/cd...</td>\n",
       "    </tr>\n",
       "    <tr>\n",
       "      <th>1043578</th>\n",
       "      <td>4</td>\n",
       "      <td>is down for another great weekend of sweet, sw...</td>\n",
       "    </tr>\n",
       "    <tr>\n",
       "      <th>1043579</th>\n",
       "      <td>4</td>\n",
       "      <td>@Lobato1 w00t! Takes a bit to build a network ...</td>\n",
       "    </tr>\n",
       "  </tbody>\n",
       "</table>\n",
       "</div>"
      ],
      "text/plain": [
       "         label                                            reviews\n",
       "1043575      4  Off to school, having my last biology test tod...\n",
       "1043576      4  @faintbreaths That girl from SMU�people are sa...\n",
       "1043577      4  So loving the Dark Blade http://tinyurl.com/cd...\n",
       "1043578      4  is down for another great weekend of sweet, sw...\n",
       "1043579      4  @Lobato1 w00t! Takes a bit to build a network ..."
      ]
     },
     "execution_count": 23,
     "metadata": {},
     "output_type": "execute_result"
    }
   ],
   "source": [
    "last5000.head(5)"
   ]
  },
  {
   "cell_type": "code",
   "execution_count": 26,
   "metadata": {},
   "outputs": [],
   "source": [
    "for i in range(len(last5000)):\n",
    "    last5000.loc[i+1043575,\"label\"]=1"
   ]
  },
  {
   "cell_type": "code",
   "execution_count": 27,
   "metadata": {},
   "outputs": [
    {
     "data": {
      "text/html": [
       "<div>\n",
       "<style scoped>\n",
       "    .dataframe tbody tr th:only-of-type {\n",
       "        vertical-align: middle;\n",
       "    }\n",
       "\n",
       "    .dataframe tbody tr th {\n",
       "        vertical-align: top;\n",
       "    }\n",
       "\n",
       "    .dataframe thead th {\n",
       "        text-align: right;\n",
       "    }\n",
       "</style>\n",
       "<table border=\"1\" class=\"dataframe\">\n",
       "  <thead>\n",
       "    <tr style=\"text-align: right;\">\n",
       "      <th></th>\n",
       "      <th>label</th>\n",
       "      <th>reviews</th>\n",
       "    </tr>\n",
       "  </thead>\n",
       "  <tbody>\n",
       "    <tr>\n",
       "      <th>1047123</th>\n",
       "      <td>1</td>\n",
       "      <td>@KarenMillen_ That kaftan is another one to ad...</td>\n",
       "    </tr>\n",
       "    <tr>\n",
       "      <th>1044467</th>\n",
       "      <td>1</td>\n",
       "      <td>I'm still loving the new background  lookin fo...</td>\n",
       "    </tr>\n",
       "    <tr>\n",
       "      <th>1044191</th>\n",
       "      <td>1</td>\n",
       "      <td>Today is an amazing &amp;amp; beautiful day. I wis...</td>\n",
       "    </tr>\n",
       "    <tr>\n",
       "      <th>1047558</th>\n",
       "      <td>1</td>\n",
       "      <td>@DonnieWahlberg Ddub can't wait too see u Augu...</td>\n",
       "    </tr>\n",
       "    <tr>\n",
       "      <th>1048368</th>\n",
       "      <td>1</td>\n",
       "      <td>Mourning tweeps jus woke up 2 hear some good n...</td>\n",
       "    </tr>\n",
       "  </tbody>\n",
       "</table>\n",
       "</div>"
      ],
      "text/plain": [
       "         label                                            reviews\n",
       "1047123      1  @KarenMillen_ That kaftan is another one to ad...\n",
       "1044467      1  I'm still loving the new background  lookin fo...\n",
       "1044191      1  Today is an amazing &amp; beautiful day. I wis...\n",
       "1047558      1  @DonnieWahlberg Ddub can't wait too see u Augu...\n",
       "1048368      1  Mourning tweeps jus woke up 2 hear some good n..."
      ]
     },
     "execution_count": 27,
     "metadata": {},
     "output_type": "execute_result"
    }
   ],
   "source": [
    "last5000.sample(5)"
   ]
  },
  {
   "cell_type": "code",
   "execution_count": 28,
   "metadata": {},
   "outputs": [],
   "source": [
    "data10000 = pd.concat([first5000, last5000], ignore_index= True)"
   ]
  },
  {
   "cell_type": "code",
   "execution_count": 33,
   "metadata": {},
   "outputs": [],
   "source": [
    "data10000[\"label\"].to_csv(r\"C:\\Learning\\Machine-Learning\\Deep_Learning_WorkSpace\\projects\\sentiment-analysis-project\\data\\raw\\label10000.csv\")\n",
    "data10000[\"reviews\"].to_csv(r\"C:\\Learning\\Machine-Learning\\Deep_Learning_WorkSpace\\projects\\sentiment-analysis-project\\data\\raw\\text10000.csv\")"
   ]
  }
 ],
 "metadata": {
  "kernelspec": {
   "display_name": "base_env",
   "language": "python",
   "name": "python3"
  },
  "language_info": {
   "codemirror_mode": {
    "name": "ipython",
    "version": 3
   },
   "file_extension": ".py",
   "mimetype": "text/x-python",
   "name": "python",
   "nbconvert_exporter": "python",
   "pygments_lexer": "ipython3",
   "version": "3.11.9"
  }
 },
 "nbformat": 4,
 "nbformat_minor": 2
}
